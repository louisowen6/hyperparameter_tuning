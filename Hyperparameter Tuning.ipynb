{
  "nbformat": 4,
  "nbformat_minor": 0,
  "metadata": {
    "colab": {
      "name": "Hyperparameter Tuning.ipynb",
      "provenance": [],
      "collapsed_sections": [
        "5J6oAPSgpnfl",
        "6n6xauNbqGyc",
        "rlzv8xciqjxR",
        "1ojQeZrZ7ksJ",
        "GmLs2ngW7mON",
        "QXn8L2m-7oYf",
        "G6BT3Ui2vp19"
      ]
    },
    "kernelspec": {
      "name": "python3",
      "display_name": "Python 3"
    },
    "language_info": {
      "name": "python"
    }
  },
  "cells": [
    {
      "cell_type": "markdown",
      "metadata": {
        "id": "Dhr43KT0pj2Z"
      },
      "source": [
        "Author: [Louis Owen](https://louisowen6.github.io/)"
      ]
    },
    {
      "cell_type": "markdown",
      "metadata": {
        "id": "5J6oAPSgpnfl"
      },
      "source": [
        "# Grid Search"
      ]
    },
    {
      "cell_type": "code",
      "metadata": {
        "id": "ymLSiGa62ci9"
      },
      "source": [
        "import pandas as pd\n",
        "import numpy as np"
      ],
      "execution_count": null,
      "outputs": []
    },
    {
      "cell_type": "code",
      "metadata": {
        "id": "JmQaLp2L2Jn4"
      },
      "source": [
        "param_1_list = [i for i in range(2, 100)]\n",
        "param_2_list = [i for i in range(5, 100)]"
      ],
      "execution_count": null,
      "outputs": []
    },
    {
      "cell_type": "code",
      "metadata": {
        "id": "QIj3Q29VpaXw"
      },
      "source": [
        "results_dict = {}\n",
        "for param_1 in param_1_list:\n",
        "    for param_2 in param_2_list:\n",
        "        \n",
        "        ###################################################################\n",
        "        # put your ml training code here\n",
        "        # save the results\n",
        "        ###################################################################\n",
        "\n",
        "        #Remove this code later\n",
        "        results = np.random.uniform(0,1)\n",
        "\n",
        "        results_dict[(param_1,param_2)] = {'score':results}"
      ],
      "execution_count": null,
      "outputs": []
    },
    {
      "cell_type": "code",
      "metadata": {
        "colab": {
          "base_uri": "https://localhost:8080/"
        },
        "id": "1hIohip-2P9L",
        "outputId": "f17df380-c5b2-46c9-d550-38f1b198e9b7"
      },
      "source": [
        "df_results = pd.DataFrame(results_dict).T.reset_index()\n",
        "df_results.columns = ['param_1','param_2','score']\n",
        "df_results.sort_values(['score'],ascending=False)"
      ],
      "execution_count": null,
      "outputs": [
        {
          "output_type": "execute_result",
          "data": {
            "text/html": [
              "<div>\n",
              "<style scoped>\n",
              "    .dataframe tbody tr th:only-of-type {\n",
              "        vertical-align: middle;\n",
              "    }\n",
              "\n",
              "    .dataframe tbody tr th {\n",
              "        vertical-align: top;\n",
              "    }\n",
              "\n",
              "    .dataframe thead th {\n",
              "        text-align: right;\n",
              "    }\n",
              "</style>\n",
              "<table border=\"1\" class=\"dataframe\">\n",
              "  <thead>\n",
              "    <tr style=\"text-align: right;\">\n",
              "      <th></th>\n",
              "      <th>param_1</th>\n",
              "      <th>param_2</th>\n",
              "      <th>score</th>\n",
              "    </tr>\n",
              "  </thead>\n",
              "  <tbody>\n",
              "    <tr>\n",
              "      <th>7443</th>\n",
              "      <td>80</td>\n",
              "      <td>38</td>\n",
              "      <td>0.999901</td>\n",
              "    </tr>\n",
              "    <tr>\n",
              "      <th>3915</th>\n",
              "      <td>43</td>\n",
              "      <td>25</td>\n",
              "      <td>0.999607</td>\n",
              "    </tr>\n",
              "    <tr>\n",
              "      <th>8748</th>\n",
              "      <td>94</td>\n",
              "      <td>13</td>\n",
              "      <td>0.999464</td>\n",
              "    </tr>\n",
              "    <tr>\n",
              "      <th>560</th>\n",
              "      <td>7</td>\n",
              "      <td>90</td>\n",
              "      <td>0.999265</td>\n",
              "    </tr>\n",
              "    <tr>\n",
              "      <th>6114</th>\n",
              "      <td>66</td>\n",
              "      <td>39</td>\n",
              "      <td>0.999264</td>\n",
              "    </tr>\n",
              "    <tr>\n",
              "      <th>...</th>\n",
              "      <td>...</td>\n",
              "      <td>...</td>\n",
              "      <td>...</td>\n",
              "    </tr>\n",
              "    <tr>\n",
              "      <th>720</th>\n",
              "      <td>9</td>\n",
              "      <td>60</td>\n",
              "      <td>0.000270</td>\n",
              "    </tr>\n",
              "    <tr>\n",
              "      <th>6981</th>\n",
              "      <td>75</td>\n",
              "      <td>51</td>\n",
              "      <td>0.000211</td>\n",
              "    </tr>\n",
              "    <tr>\n",
              "      <th>7553</th>\n",
              "      <td>81</td>\n",
              "      <td>53</td>\n",
              "      <td>0.000152</td>\n",
              "    </tr>\n",
              "    <tr>\n",
              "      <th>9071</th>\n",
              "      <td>97</td>\n",
              "      <td>51</td>\n",
              "      <td>0.000084</td>\n",
              "    </tr>\n",
              "    <tr>\n",
              "      <th>1352</th>\n",
              "      <td>16</td>\n",
              "      <td>27</td>\n",
              "      <td>0.000057</td>\n",
              "    </tr>\n",
              "  </tbody>\n",
              "</table>\n",
              "<p>9310 rows × 3 columns</p>\n",
              "</div>"
            ],
            "text/plain": [
              "      param_1  param_2     score\n",
              "7443       80       38  0.999901\n",
              "3915       43       25  0.999607\n",
              "8748       94       13  0.999464\n",
              "560         7       90  0.999265\n",
              "6114       66       39  0.999264\n",
              "...       ...      ...       ...\n",
              "720         9       60  0.000270\n",
              "6981       75       51  0.000211\n",
              "7553       81       53  0.000152\n",
              "9071       97       51  0.000084\n",
              "1352       16       27  0.000057\n",
              "\n",
              "[9310 rows x 3 columns]"
            ]
          },
          "metadata": {
            "tags": []
          },
          "execution_count": 4
        }
      ]
    },
    {
      "cell_type": "markdown",
      "metadata": {
        "id": "6n6xauNbqGyc"
      },
      "source": [
        "# Random Search"
      ]
    },
    {
      "cell_type": "code",
      "metadata": {
        "id": "XRwFeib5qIaf"
      },
      "source": [
        "import pandas as pd\n",
        "import numpy as np\n",
        "from sklearn.model_selection import ParameterSampler"
      ],
      "execution_count": null,
      "outputs": []
    },
    {
      "cell_type": "code",
      "metadata": {
        "id": "4Zk_ZVnRqNo6"
      },
      "source": [
        "# Number of random search iterations\n",
        "TUNE_ITER = 200\n",
        "\n",
        "# List of parameters to be chosen by Random Search\n",
        "param_grid = {'param_1': [i for i in range(2, 100)], \n",
        "              'param_2': [i for i in range(5, 100)],\n",
        "              'param_3':list(np.linspace(0,1,100))\n",
        "              }\n",
        "param_list = list(ParameterSampler(param_grid, n_iter=TUNE_ITER,random_state=0))\n",
        "\n",
        "# Searching the Best Parameters\n",
        "results_dict = {}\n",
        "for tune_iter in range(TUNE_ITER):\n",
        "    # Get the set of parameter for this iteration\n",
        "    strategy_params = param_list[tune_iter]\n",
        "\n",
        "    ###################################################################\n",
        "    # put your ml training code here\n",
        "    # save the results\n",
        "    ###################################################################\n",
        "\n",
        "    #Remove this code later\n",
        "    results = np.random.uniform(0,1)\n",
        "\n",
        "    results_dict[tuple(strategy_params.values())] = {'score':results}"
      ],
      "execution_count": null,
      "outputs": []
    },
    {
      "cell_type": "code",
      "metadata": {
        "colab": {
          "base_uri": "https://localhost:8080/"
        },
        "id": "fLcAf4ST0zOH",
        "outputId": "dde5b07a-ac42-4b50-fb67-ac0591afdacf"
      },
      "source": [
        "df_results = pd.DataFrame(results_dict).T.reset_index()\n",
        "df_results.columns = list(strategy_params.keys()) + ['score']\n",
        "df_results.sort_values(['score'],ascending=False)"
      ],
      "execution_count": null,
      "outputs": [
        {
          "output_type": "execute_result",
          "data": {
            "text/html": [
              "<div>\n",
              "<style scoped>\n",
              "    .dataframe tbody tr th:only-of-type {\n",
              "        vertical-align: middle;\n",
              "    }\n",
              "\n",
              "    .dataframe tbody tr th {\n",
              "        vertical-align: top;\n",
              "    }\n",
              "\n",
              "    .dataframe thead th {\n",
              "        text-align: right;\n",
              "    }\n",
              "</style>\n",
              "<table border=\"1\" class=\"dataframe\">\n",
              "  <thead>\n",
              "    <tr style=\"text-align: right;\">\n",
              "      <th></th>\n",
              "      <th>param_3</th>\n",
              "      <th>param_2</th>\n",
              "      <th>param_1</th>\n",
              "      <th>score</th>\n",
              "    </tr>\n",
              "  </thead>\n",
              "  <tbody>\n",
              "    <tr>\n",
              "      <th>40</th>\n",
              "      <td>0.989899</td>\n",
              "      <td>89</td>\n",
              "      <td>51</td>\n",
              "      <td>0.999034</td>\n",
              "    </tr>\n",
              "    <tr>\n",
              "      <th>49</th>\n",
              "      <td>0.282828</td>\n",
              "      <td>29</td>\n",
              "      <td>52</td>\n",
              "      <td>0.979626</td>\n",
              "    </tr>\n",
              "    <tr>\n",
              "      <th>120</th>\n",
              "      <td>0.454545</td>\n",
              "      <td>80</td>\n",
              "      <td>65</td>\n",
              "      <td>0.974745</td>\n",
              "    </tr>\n",
              "    <tr>\n",
              "      <th>64</th>\n",
              "      <td>0.797980</td>\n",
              "      <td>38</td>\n",
              "      <td>67</td>\n",
              "      <td>0.971236</td>\n",
              "    </tr>\n",
              "    <tr>\n",
              "      <th>163</th>\n",
              "      <td>0.040404</td>\n",
              "      <td>44</td>\n",
              "      <td>10</td>\n",
              "      <td>0.966068</td>\n",
              "    </tr>\n",
              "    <tr>\n",
              "      <th>...</th>\n",
              "      <td>...</td>\n",
              "      <td>...</td>\n",
              "      <td>...</td>\n",
              "      <td>...</td>\n",
              "    </tr>\n",
              "    <tr>\n",
              "      <th>66</th>\n",
              "      <td>0.898990</td>\n",
              "      <td>26</td>\n",
              "      <td>83</td>\n",
              "      <td>0.014485</td>\n",
              "    </tr>\n",
              "    <tr>\n",
              "      <th>21</th>\n",
              "      <td>0.333333</td>\n",
              "      <td>46</td>\n",
              "      <td>95</td>\n",
              "      <td>0.008018</td>\n",
              "    </tr>\n",
              "    <tr>\n",
              "      <th>198</th>\n",
              "      <td>0.131313</td>\n",
              "      <td>87</td>\n",
              "      <td>36</td>\n",
              "      <td>0.006983</td>\n",
              "    </tr>\n",
              "    <tr>\n",
              "      <th>196</th>\n",
              "      <td>0.121212</td>\n",
              "      <td>34</td>\n",
              "      <td>35</td>\n",
              "      <td>0.002384</td>\n",
              "    </tr>\n",
              "    <tr>\n",
              "      <th>100</th>\n",
              "      <td>0.313131</td>\n",
              "      <td>48</td>\n",
              "      <td>20</td>\n",
              "      <td>0.000462</td>\n",
              "    </tr>\n",
              "  </tbody>\n",
              "</table>\n",
              "<p>200 rows × 4 columns</p>\n",
              "</div>"
            ],
            "text/plain": [
              "      param_3  param_2  param_1     score\n",
              "40   0.989899       89       51  0.999034\n",
              "49   0.282828       29       52  0.979626\n",
              "120  0.454545       80       65  0.974745\n",
              "64   0.797980       38       67  0.971236\n",
              "163  0.040404       44       10  0.966068\n",
              "..        ...      ...      ...       ...\n",
              "66   0.898990       26       83  0.014485\n",
              "21   0.333333       46       95  0.008018\n",
              "198  0.131313       87       36  0.006983\n",
              "196  0.121212       34       35  0.002384\n",
              "100  0.313131       48       20  0.000462\n",
              "\n",
              "[200 rows x 4 columns]"
            ]
          },
          "metadata": {
            "tags": []
          },
          "execution_count": 7
        }
      ]
    },
    {
      "cell_type": "markdown",
      "metadata": {
        "id": "rlzv8xciqjxR"
      },
      "source": [
        "# Coarse to Fine Search"
      ]
    },
    {
      "cell_type": "code",
      "metadata": {
        "id": "7rzjXrzAr18f"
      },
      "source": [
        "import pandas as pd\n",
        "import numpy as np\n",
        "from sklearn.model_selection import ParameterSampler\n",
        "\n",
        "import random\n",
        "random.seed(1)"
      ],
      "execution_count": null,
      "outputs": []
    },
    {
      "cell_type": "code",
      "metadata": {
        "colab": {
          "base_uri": "https://localhost:8080/"
        },
        "id": "6haQpS80ql8M",
        "outputId": "ca0047b2-3b41-4f81-8918-fd57f6be88ed"
      },
      "source": [
        "grid_size = 100\n",
        "tune_iter = 500\n",
        "num_epochs = 5\n",
        "worse_score = 0\n",
        "\n",
        "init_param_grid = {'param_1': [i for i in range(2, 10)], \n",
        "                   'param_2': [i for i in range(5, 10)],\n",
        "                   'param_3':list(np.linspace(0,1,grid_size))\n",
        "                  }\n",
        "\n",
        "new_param_grid = init_param_grid.copy()\n",
        "best_params_dict = {'score':worse_score,'params':[]}\n",
        "tried_params_list = []\n",
        "\n",
        "for epoch in range(num_epochs):\n",
        "\n",
        "    # List of sampled hyperparameter combinations will be used for random search\n",
        "    param_list = list(ParameterSampler(new_param_grid, n_iter=TUNE_ITER,random_state=0))\n",
        "    \n",
        "    # Searching the Best Parameters with Random Search\n",
        "    rs_results_dict = {}\n",
        "    for tune_iter in range(TUNE_ITER):\n",
        "        # Get the set of parameter for this iteration\n",
        "        strategy_params = param_list[tune_iter]\n",
        "\n",
        "        ###################################################################\n",
        "        # put your ml training code here\n",
        "        # save the results\n",
        "        ###################################################################\n",
        "\n",
        "        #Remove this code later\n",
        "        results = np.random.uniform(0,1)\n",
        "\n",
        "        rs_results_dict[tuple(strategy_params.values())] = {'score':results}\n",
        "\n",
        "        if results > best_params_dict['score']:\n",
        "            best_params_dict['score'] = results\n",
        "            best_params_dict['params'] = list(strategy_params.values())\n",
        "\n",
        "    # Save the results in dataframe and sort it based on score\n",
        "    df_rs_results = pd.DataFrame(rs_results_dict).T.reset_index()\n",
        "    df_rs_results.columns = list(strategy_params.keys()) + ['score']\n",
        "    df_rs_results = df_rs_results.sort_values(['score'],ascending=False).head(num_epochs-epoch)\n",
        "    \n",
        "    # If the best score from this epoch is worse than the best score, \n",
        "    # then append the best hyperaparameters combination to this epoch dataframe\n",
        "    if df_rs_results['score'].iloc[0] < best_params_dict['score']:\n",
        "        new_row_dict = {}\n",
        "        new_row_dict['score'] = best_params_dict['score']\n",
        "        for idx, key in enumerate(init_param_grid):\n",
        "            new_row_dict[key] = best_params_dict['params'][idx]\n",
        "\n",
        "        df_rs_results = df_rs_results.append(new_row_dict,ignore_index=True)\n",
        "        df_rs_results = df_rs_results.sort_values(['score'],ascending=False).head(num_epochs-epoch)\n",
        "\n",
        "    display(df_rs_results)\n",
        "    print(df_rs_results.head(1).T.to_dict())\n",
        "    \n",
        "    # Get the worse and best hyperparameter combinations \n",
        "    df_rs_results_min = df_rs_results[df_rs_results['score']>worse_score].min(axis=0)\n",
        "    df_rs_results_max = df_rs_results[df_rs_results['score']>worse_score].max(axis=0)\n",
        "    \n",
        "    # Generate new hyperparameter space based on current worse and best hyperparameter combinations\n",
        "    for key in init_param_grid:\n",
        "        if isinstance(init_param_grid[key][0],int):\n",
        "            new_param_grid[key] = np.unique([i for i in range(int(df_rs_results_min[key]), int(df_rs_results_max[key])+1)])\n",
        "        elif isinstance(init_param_grid[key][0],float):\n",
        "            new_param_grid[key] = np.unique(np.linspace(df_rs_results_min[key], df_rs_results_max[key], grid_size))\n",
        "        else:\n",
        "            new_param_grid[key] = init_param_grid[key]\n",
        "    \n",
        "    # Decrease the tuning iteration for random search\n",
        "    TUNE_ITER = int(TUNE_ITER - epoch * TUNE_ITER/num_epochs)"
      ],
      "execution_count": null,
      "outputs": [
        {
          "output_type": "display_data",
          "data": {
            "text/html": [
              "<div>\n",
              "<style scoped>\n",
              "    .dataframe tbody tr th:only-of-type {\n",
              "        vertical-align: middle;\n",
              "    }\n",
              "\n",
              "    .dataframe tbody tr th {\n",
              "        vertical-align: top;\n",
              "    }\n",
              "\n",
              "    .dataframe thead th {\n",
              "        text-align: right;\n",
              "    }\n",
              "</style>\n",
              "<table border=\"1\" class=\"dataframe\">\n",
              "  <thead>\n",
              "    <tr style=\"text-align: right;\">\n",
              "      <th></th>\n",
              "      <th>param_3</th>\n",
              "      <th>param_2</th>\n",
              "      <th>param_1</th>\n",
              "      <th>score</th>\n",
              "    </tr>\n",
              "  </thead>\n",
              "  <tbody>\n",
              "    <tr>\n",
              "      <th>131</th>\n",
              "      <td>0.040404</td>\n",
              "      <td>9</td>\n",
              "      <td>6</td>\n",
              "      <td>0.997195</td>\n",
              "    </tr>\n",
              "    <tr>\n",
              "      <th>37</th>\n",
              "      <td>0.606061</td>\n",
              "      <td>9</td>\n",
              "      <td>8</td>\n",
              "      <td>0.996546</td>\n",
              "    </tr>\n",
              "    <tr>\n",
              "      <th>102</th>\n",
              "      <td>0.323232</td>\n",
              "      <td>9</td>\n",
              "      <td>6</td>\n",
              "      <td>0.975205</td>\n",
              "    </tr>\n",
              "    <tr>\n",
              "      <th>164</th>\n",
              "      <td>0.404040</td>\n",
              "      <td>8</td>\n",
              "      <td>6</td>\n",
              "      <td>0.972068</td>\n",
              "    </tr>\n",
              "    <tr>\n",
              "      <th>10</th>\n",
              "      <td>0.787879</td>\n",
              "      <td>6</td>\n",
              "      <td>6</td>\n",
              "      <td>0.969271</td>\n",
              "    </tr>\n",
              "  </tbody>\n",
              "</table>\n",
              "</div>"
            ],
            "text/plain": [
              "      param_3  param_2  param_1     score\n",
              "131  0.040404        9        6  0.997195\n",
              "37   0.606061        9        8  0.996546\n",
              "102  0.323232        9        6  0.975205\n",
              "164  0.404040        8        6  0.972068\n",
              "10   0.787879        6        6  0.969271"
            ]
          },
          "metadata": {
            "tags": []
          }
        },
        {
          "output_type": "stream",
          "text": [
            "{131: {'param_3': 0.04040404040404041, 'param_2': 9.0, 'param_1': 6.0, 'score': 0.9971947128926484}}\n"
          ],
          "name": "stdout"
        },
        {
          "output_type": "display_data",
          "data": {
            "text/html": [
              "<div>\n",
              "<style scoped>\n",
              "    .dataframe tbody tr th:only-of-type {\n",
              "        vertical-align: middle;\n",
              "    }\n",
              "\n",
              "    .dataframe tbody tr th {\n",
              "        vertical-align: top;\n",
              "    }\n",
              "\n",
              "    .dataframe thead th {\n",
              "        text-align: right;\n",
              "    }\n",
              "</style>\n",
              "<table border=\"1\" class=\"dataframe\">\n",
              "  <thead>\n",
              "    <tr style=\"text-align: right;\">\n",
              "      <th></th>\n",
              "      <th>param_3</th>\n",
              "      <th>param_2</th>\n",
              "      <th>param_1</th>\n",
              "      <th>score</th>\n",
              "    </tr>\n",
              "  </thead>\n",
              "  <tbody>\n",
              "    <tr>\n",
              "      <th>4</th>\n",
              "      <td>6.000000</td>\n",
              "      <td>9.0</td>\n",
              "      <td>0.040404</td>\n",
              "      <td>0.997195</td>\n",
              "    </tr>\n",
              "    <tr>\n",
              "      <th>0</th>\n",
              "      <td>0.349964</td>\n",
              "      <td>7.0</td>\n",
              "      <td>8.000000</td>\n",
              "      <td>0.995359</td>\n",
              "    </tr>\n",
              "    <tr>\n",
              "      <th>1</th>\n",
              "      <td>0.697276</td>\n",
              "      <td>6.0</td>\n",
              "      <td>7.000000</td>\n",
              "      <td>0.994160</td>\n",
              "    </tr>\n",
              "    <tr>\n",
              "      <th>2</th>\n",
              "      <td>0.078155</td>\n",
              "      <td>9.0</td>\n",
              "      <td>8.000000</td>\n",
              "      <td>0.992682</td>\n",
              "    </tr>\n",
              "  </tbody>\n",
              "</table>\n",
              "</div>"
            ],
            "text/plain": [
              "    param_3  param_2   param_1     score\n",
              "4  6.000000      9.0  0.040404  0.997195\n",
              "0  0.349964      7.0  8.000000  0.995359\n",
              "1  0.697276      6.0  7.000000  0.994160\n",
              "2  0.078155      9.0  8.000000  0.992682"
            ]
          },
          "metadata": {
            "tags": []
          }
        },
        {
          "output_type": "stream",
          "text": [
            "{4: {'param_3': 6.0, 'param_2': 9.0, 'param_1': 0.04040404040404041, 'score': 0.9971947128926484}}\n"
          ],
          "name": "stdout"
        },
        {
          "output_type": "display_data",
          "data": {
            "text/html": [
              "<div>\n",
              "<style scoped>\n",
              "    .dataframe tbody tr th:only-of-type {\n",
              "        vertical-align: middle;\n",
              "    }\n",
              "\n",
              "    .dataframe tbody tr th {\n",
              "        vertical-align: top;\n",
              "    }\n",
              "\n",
              "    .dataframe thead th {\n",
              "        text-align: right;\n",
              "    }\n",
              "</style>\n",
              "<table border=\"1\" class=\"dataframe\">\n",
              "  <thead>\n",
              "    <tr style=\"text-align: right;\">\n",
              "      <th></th>\n",
              "      <th>param_3</th>\n",
              "      <th>param_2</th>\n",
              "      <th>param_1</th>\n",
              "      <th>score</th>\n",
              "    </tr>\n",
              "  </thead>\n",
              "  <tbody>\n",
              "    <tr>\n",
              "      <th>3</th>\n",
              "      <td>6.000000</td>\n",
              "      <td>9.0</td>\n",
              "      <td>0.040404</td>\n",
              "      <td>0.997195</td>\n",
              "    </tr>\n",
              "    <tr>\n",
              "      <th>0</th>\n",
              "      <td>3.248436</td>\n",
              "      <td>7.0</td>\n",
              "      <td>6.000000</td>\n",
              "      <td>0.996493</td>\n",
              "    </tr>\n",
              "    <tr>\n",
              "      <th>1</th>\n",
              "      <td>4.863484</td>\n",
              "      <td>6.0</td>\n",
              "      <td>4.000000</td>\n",
              "      <td>0.986835</td>\n",
              "    </tr>\n",
              "  </tbody>\n",
              "</table>\n",
              "</div>"
            ],
            "text/plain": [
              "    param_3  param_2   param_1     score\n",
              "3  6.000000      9.0  0.040404  0.997195\n",
              "0  3.248436      7.0  6.000000  0.996493\n",
              "1  4.863484      6.0  4.000000  0.986835"
            ]
          },
          "metadata": {
            "tags": []
          }
        },
        {
          "output_type": "stream",
          "text": [
            "{3: {'param_3': 6.0, 'param_2': 9.0, 'param_1': 0.04040404040404041, 'score': 0.9971947128926484}}\n"
          ],
          "name": "stdout"
        },
        {
          "output_type": "display_data",
          "data": {
            "text/html": [
              "<div>\n",
              "<style scoped>\n",
              "    .dataframe tbody tr th:only-of-type {\n",
              "        vertical-align: middle;\n",
              "    }\n",
              "\n",
              "    .dataframe tbody tr th {\n",
              "        vertical-align: top;\n",
              "    }\n",
              "\n",
              "    .dataframe thead th {\n",
              "        text-align: right;\n",
              "    }\n",
              "</style>\n",
              "<table border=\"1\" class=\"dataframe\">\n",
              "  <thead>\n",
              "    <tr style=\"text-align: right;\">\n",
              "      <th></th>\n",
              "      <th>param_3</th>\n",
              "      <th>param_2</th>\n",
              "      <th>param_1</th>\n",
              "      <th>score</th>\n",
              "    </tr>\n",
              "  </thead>\n",
              "  <tbody>\n",
              "    <tr>\n",
              "      <th>2</th>\n",
              "      <td>6.000000</td>\n",
              "      <td>9.0</td>\n",
              "      <td>0.040404</td>\n",
              "      <td>0.997195</td>\n",
              "    </tr>\n",
              "    <tr>\n",
              "      <th>0</th>\n",
              "      <td>4.971638</td>\n",
              "      <td>7.0</td>\n",
              "      <td>5.000000</td>\n",
              "      <td>0.991502</td>\n",
              "    </tr>\n",
              "  </tbody>\n",
              "</table>\n",
              "</div>"
            ],
            "text/plain": [
              "    param_3  param_2   param_1     score\n",
              "2  6.000000      9.0  0.040404  0.997195\n",
              "0  4.971638      7.0  5.000000  0.991502"
            ]
          },
          "metadata": {
            "tags": []
          }
        },
        {
          "output_type": "stream",
          "text": [
            "{2: {'param_3': 6.0, 'param_2': 9.0, 'param_1': 0.04040404040404041, 'score': 0.9971947128926484}}\n"
          ],
          "name": "stdout"
        },
        {
          "output_type": "display_data",
          "data": {
            "text/html": [
              "<div>\n",
              "<style scoped>\n",
              "    .dataframe tbody tr th:only-of-type {\n",
              "        vertical-align: middle;\n",
              "    }\n",
              "\n",
              "    .dataframe tbody tr th {\n",
              "        vertical-align: top;\n",
              "    }\n",
              "\n",
              "    .dataframe thead th {\n",
              "        text-align: right;\n",
              "    }\n",
              "</style>\n",
              "<table border=\"1\" class=\"dataframe\">\n",
              "  <thead>\n",
              "    <tr style=\"text-align: right;\">\n",
              "      <th></th>\n",
              "      <th>param_3</th>\n",
              "      <th>param_2</th>\n",
              "      <th>param_1</th>\n",
              "      <th>score</th>\n",
              "    </tr>\n",
              "  </thead>\n",
              "  <tbody>\n",
              "    <tr>\n",
              "      <th>1</th>\n",
              "      <td>6.0</td>\n",
              "      <td>9.0</td>\n",
              "      <td>0.040404</td>\n",
              "      <td>0.997195</td>\n",
              "    </tr>\n",
              "  </tbody>\n",
              "</table>\n",
              "</div>"
            ],
            "text/plain": [
              "   param_3  param_2   param_1     score\n",
              "1      6.0      9.0  0.040404  0.997195"
            ]
          },
          "metadata": {
            "tags": []
          }
        },
        {
          "output_type": "stream",
          "text": [
            "{1: {'param_3': 6.0, 'param_2': 9.0, 'param_1': 0.04040404040404041, 'score': 0.9971947128926484}}\n"
          ],
          "name": "stdout"
        }
      ]
    },
    {
      "cell_type": "markdown",
      "metadata": {
        "id": "C48sL-VruwXS"
      },
      "source": [
        "# Bayesian Search"
      ]
    },
    {
      "cell_type": "markdown",
      "metadata": {
        "id": "1ojQeZrZ7ksJ"
      },
      "source": [
        "## Scikit-Optimize"
      ]
    },
    {
      "cell_type": "markdown",
      "metadata": {
        "id": "2SMx0eCHvLso"
      },
      "source": [
        "If you want to apply it using cross validation with the Scikit-learn pipeline, then the implementation from [scikit-optimize](https://scikit-optimize.github.io/stable/auto_examples/sklearn-gridsearchcv-replacement.html) is a good option."
      ]
    },
    {
      "cell_type": "markdown",
      "metadata": {
        "id": "GmLs2ngW7mON"
      },
      "source": [
        "## Hyperopt"
      ]
    },
    {
      "cell_type": "markdown",
      "metadata": {
        "id": "5xj-jrOrvZz5"
      },
      "source": [
        "If you want to apply it on custom pipeline, [Hyperopt](https://github.com/hyperopt/hyperopt) is a good option."
      ]
    },
    {
      "cell_type": "code",
      "metadata": {
        "colab": {
          "base_uri": "https://localhost:8080/"
        },
        "id": "M15j6ncfypFh",
        "outputId": "afeff25e-d342-41d5-d45c-37c74c97a1b7"
      },
      "source": [
        "!pip install hyperopt"
      ],
      "execution_count": null,
      "outputs": [
        {
          "output_type": "stream",
          "text": [
            "Requirement already satisfied: hyperopt in /usr/local/lib/python3.7/dist-packages (0.1.2)\n",
            "Requirement already satisfied: networkx in /usr/local/lib/python3.7/dist-packages (from hyperopt) (2.6.2)\n",
            "Requirement already satisfied: tqdm in /usr/local/lib/python3.7/dist-packages (from hyperopt) (4.62.0)\n",
            "Requirement already satisfied: six in /usr/local/lib/python3.7/dist-packages (from hyperopt) (1.15.0)\n",
            "Requirement already satisfied: scipy in /usr/local/lib/python3.7/dist-packages (from hyperopt) (1.4.1)\n",
            "Requirement already satisfied: numpy in /usr/local/lib/python3.7/dist-packages (from hyperopt) (1.19.5)\n",
            "Requirement already satisfied: future in /usr/local/lib/python3.7/dist-packages (from hyperopt) (0.16.0)\n",
            "Requirement already satisfied: pymongo in /usr/local/lib/python3.7/dist-packages (from hyperopt) (3.12.0)\n"
          ],
          "name": "stdout"
        }
      ]
    },
    {
      "cell_type": "code",
      "metadata": {
        "id": "0-tYK4Lkz0Lp"
      },
      "source": [
        "import numpy as np\n",
        "from hyperopt import fmin, tpe, space_eval, hp"
      ],
      "execution_count": null,
      "outputs": []
    },
    {
      "cell_type": "code",
      "metadata": {
        "id": "Bhv8lADSyqzY"
      },
      "source": [
        "# Hyperopt use the probabilities for each hyperparameter value on the hyperparameter space dictionary \n",
        "# instead of the absolute point values themself \n",
        "\n",
        "space = {'param_1': hp.quniform('param_1',2,100,1), \n",
        "        'param_2': hp.quniform('param_2',5,100,1),\n",
        "        'param_3': hp.lognormal('param_3',0,1)\n",
        "        }"
      ],
      "execution_count": null,
      "outputs": []
    },
    {
      "cell_type": "code",
      "metadata": {
        "id": "Mv0Z92F0zdZp"
      },
      "source": [
        "# Set up objective function\n",
        "def objective(params):\n",
        "    params = {'param_1': int(params['param_1']),\n",
        "              'param_2': int(params['param_2']),\n",
        "              'param_3': params['param_3']\n",
        "              }\n",
        "\n",
        "    ###################################################################\n",
        "    # put your ml training code here\n",
        "    # save the results\n",
        "    ###################################################################\n",
        "    \n",
        "    #Remove this code later\n",
        "    results = np.random.uniform(0,1)\n",
        "\n",
        "    return 1-results"
      ],
      "execution_count": null,
      "outputs": []
    },
    {
      "cell_type": "code",
      "metadata": {
        "colab": {
          "base_uri": "https://localhost:8080/"
        },
        "id": "AsmHFHcAzqV2",
        "outputId": "0370f750-679a-485f-a034-0a4b9f6cadab"
      },
      "source": [
        "# minimize the objective over the space\n",
        "\n",
        "best = fmin(objective, space, \n",
        "            algo=tpe.suggest, \n",
        "            max_evals=200,\n",
        "            rstate=np.random.RandomState(42)\n",
        "            )"
      ],
      "execution_count": null,
      "outputs": [
        {
          "output_type": "stream",
          "text": [
            "100%|██████████| 200/200 [00:03<00:00, 54.06it/s, best loss: 0.01868585451423055]\n"
          ],
          "name": "stdout"
        }
      ]
    },
    {
      "cell_type": "code",
      "metadata": {
        "colab": {
          "base_uri": "https://localhost:8080/"
        },
        "id": "kZUbazpO0GCh",
        "outputId": "5dbc53ef-e249-46ff-af7e-57feed115a6a"
      },
      "source": [
        "print(best)"
      ],
      "execution_count": null,
      "outputs": [
        {
          "output_type": "stream",
          "text": [
            "{'param_1': 61.0, 'param_2': 95.0, 'param_3': 7.4555815685587365}\n"
          ],
          "name": "stdout"
        }
      ]
    },
    {
      "cell_type": "markdown",
      "metadata": {
        "id": "QXn8L2m-7oYf"
      },
      "source": [
        "## Bayes_opt"
      ]
    },
    {
      "cell_type": "markdown",
      "metadata": {
        "id": "5UkDH-Vm7tH4"
      },
      "source": [
        "Another package you can utilized is [bayes_opt](https://github.com/fmfn/BayesianOptimization)"
      ]
    },
    {
      "cell_type": "code",
      "metadata": {
        "colab": {
          "base_uri": "https://localhost:8080/"
        },
        "id": "rYrWXR5h7p_9",
        "outputId": "25cfbb36-427e-4d4d-af96-8f8b3ffc9672"
      },
      "source": [
        "!pip install bayesian-optimization"
      ],
      "execution_count": null,
      "outputs": [
        {
          "output_type": "stream",
          "text": [
            "Requirement already satisfied: bayesian-optimization in /usr/local/lib/python3.7/dist-packages (1.2.0)\n",
            "Requirement already satisfied: scipy>=0.14.0 in /usr/local/lib/python3.7/dist-packages (from bayesian-optimization) (1.4.1)\n",
            "Requirement already satisfied: scikit-learn>=0.18.0 in /usr/local/lib/python3.7/dist-packages (from bayesian-optimization) (0.22.2.post1)\n",
            "Requirement already satisfied: numpy>=1.9.0 in /usr/local/lib/python3.7/dist-packages (from bayesian-optimization) (1.19.5)\n",
            "Requirement already satisfied: joblib>=0.11 in /usr/local/lib/python3.7/dist-packages (from scikit-learn>=0.18.0->bayesian-optimization) (1.0.1)\n"
          ],
          "name": "stdout"
        }
      ]
    },
    {
      "cell_type": "code",
      "metadata": {
        "id": "nT2WDqOw8Oe3"
      },
      "source": [
        "import numpy as np\n",
        "from bayes_opt import BayesianOptimization"
      ],
      "execution_count": null,
      "outputs": []
    },
    {
      "cell_type": "code",
      "metadata": {
        "id": "3INJpDE2rLS5"
      },
      "source": [
        "def black_box_function(param_1,param_2,param_3):\n",
        "    \"\"\"Your ML model function which outputs the performance result\n",
        "    \"\"\"\n",
        "\n",
        "    ###################################################################\n",
        "    # put your ml training code here\n",
        "    # save the results\n",
        "    ###################################################################\n",
        "\n",
        "    #Remove this code later\n",
        "    results = np.random.uniform(0,1)\n",
        "\n",
        "    return results"
      ],
      "execution_count": null,
      "outputs": []
    },
    {
      "cell_type": "code",
      "metadata": {
        "id": "r334eSkz7rf2"
      },
      "source": [
        "# Bounded region of parameter space\n",
        "pbounds = {'param_1': (2, 4), 'param_2': (-3, 3), 'param_3': (-5, -1)}\n",
        "\n",
        "optimizer = BayesianOptimization(\n",
        "    f=black_box_function,\n",
        "    pbounds=pbounds,\n",
        "    random_state=1,\n",
        ")"
      ],
      "execution_count": null,
      "outputs": []
    },
    {
      "cell_type": "code",
      "metadata": {
        "colab": {
          "base_uri": "https://localhost:8080/"
        },
        "id": "FvcpRp2S8Sjm",
        "outputId": "c09ba360-a2d7-40c4-a6df-95a71a7c4f5d"
      },
      "source": [
        "optimizer.maximize(\n",
        "    init_points=2, #How many steps of random exploration you want to perform. Random exploration can help by diversifying the exploration space.\n",
        "    n_iter=100, #How many steps of bayesian optimization you want to perform. The more steps the more likely to find a good maximum you are.\n",
        ")"
      ],
      "execution_count": null,
      "outputs": [
        {
          "output_type": "stream",
          "text": [
            "|   iter    |  target   |  param_1  |  param_2  |  param_3  |\n",
            "-------------------------------------------------------------\n",
            "| \u001b[0m 1       \u001b[0m | \u001b[0m 0.4581  \u001b[0m | \u001b[0m 2.834   \u001b[0m | \u001b[0m 1.322   \u001b[0m | \u001b[0m-5.0     \u001b[0m |\n",
            "| \u001b[0m 2       \u001b[0m | \u001b[0m 0.248   \u001b[0m | \u001b[0m 2.605   \u001b[0m | \u001b[0m-2.119   \u001b[0m | \u001b[0m-4.631   \u001b[0m |\n",
            "| \u001b[0m 3       \u001b[0m | \u001b[0m 0.01688 \u001b[0m | \u001b[0m 4.0     \u001b[0m | \u001b[0m 3.0     \u001b[0m | \u001b[0m-1.0     \u001b[0m |\n",
            "| \u001b[0m 4       \u001b[0m | \u001b[0m 0.1195  \u001b[0m | \u001b[0m 2.0     \u001b[0m | \u001b[0m 3.0     \u001b[0m | \u001b[0m-5.0     \u001b[0m |\n",
            "| \u001b[95m 5       \u001b[0m | \u001b[95m 0.5159  \u001b[0m | \u001b[95m 4.0     \u001b[0m | \u001b[95m-3.0     \u001b[0m | \u001b[95m-1.0     \u001b[0m |\n",
            "| \u001b[0m 6       \u001b[0m | \u001b[0m 0.01621 \u001b[0m | \u001b[0m 2.0     \u001b[0m | \u001b[0m-0.7335  \u001b[0m | \u001b[0m-1.0     \u001b[0m |\n",
            "| \u001b[0m 7       \u001b[0m | \u001b[0m 0.4956  \u001b[0m | \u001b[0m 4.0     \u001b[0m | \u001b[0m-0.3744  \u001b[0m | \u001b[0m-5.0     \u001b[0m |\n",
            "| \u001b[95m 8       \u001b[0m | \u001b[95m 0.798   \u001b[0m | \u001b[95m 4.0     \u001b[0m | \u001b[95m 3.0     \u001b[0m | \u001b[95m-5.0     \u001b[0m |\n",
            "| \u001b[0m 9       \u001b[0m | \u001b[0m 0.6483  \u001b[0m | \u001b[0m 4.0     \u001b[0m | \u001b[0m 1.875   \u001b[0m | \u001b[0m-3.931   \u001b[0m |\n",
            "| \u001b[95m 10      \u001b[0m | \u001b[95m 0.9285  \u001b[0m | \u001b[95m 4.0     \u001b[0m | \u001b[95m 1.998   \u001b[0m | \u001b[95m-5.0     \u001b[0m |\n",
            "| \u001b[0m 11      \u001b[0m | \u001b[0m 0.4536  \u001b[0m | \u001b[0m 2.0     \u001b[0m | \u001b[0m-3.0     \u001b[0m | \u001b[0m-1.0     \u001b[0m |\n",
            "| \u001b[0m 12      \u001b[0m | \u001b[0m 0.4571  \u001b[0m | \u001b[0m 3.966   \u001b[0m | \u001b[0m-2.99    \u001b[0m | \u001b[0m-4.939   \u001b[0m |\n",
            "| \u001b[0m 13      \u001b[0m | \u001b[0m 0.8229  \u001b[0m | \u001b[0m 4.0     \u001b[0m | \u001b[0m 1.508   \u001b[0m | \u001b[0m-5.0     \u001b[0m |\n",
            "| \u001b[0m 14      \u001b[0m | \u001b[0m 0.697   \u001b[0m | \u001b[0m 4.0     \u001b[0m | \u001b[0m-3.0     \u001b[0m | \u001b[0m-2.907   \u001b[0m |\n",
            "| \u001b[0m 15      \u001b[0m | \u001b[0m 0.7845  \u001b[0m | \u001b[0m 4.0     \u001b[0m | \u001b[0m-1.196   \u001b[0m | \u001b[0m-2.464   \u001b[0m |\n",
            "| \u001b[0m 16      \u001b[0m | \u001b[0m 0.1919  \u001b[0m | \u001b[0m 4.0     \u001b[0m | \u001b[0m-0.1111  \u001b[0m | \u001b[0m-1.0     \u001b[0m |\n",
            "| \u001b[0m 17      \u001b[0m | \u001b[0m 0.2127  \u001b[0m | \u001b[0m 4.0     \u001b[0m | \u001b[0m-1.693   \u001b[0m | \u001b[0m-3.508   \u001b[0m |\n",
            "| \u001b[0m 18      \u001b[0m | \u001b[0m 0.4764  \u001b[0m | \u001b[0m 2.0     \u001b[0m | \u001b[0m-3.0     \u001b[0m | \u001b[0m-2.924   \u001b[0m |\n",
            "| \u001b[0m 19      \u001b[0m | \u001b[0m 0.5821  \u001b[0m | \u001b[0m 2.0     \u001b[0m | \u001b[0m 3.0     \u001b[0m | \u001b[0m-1.0     \u001b[0m |\n",
            "| \u001b[0m 20      \u001b[0m | \u001b[0m 0.8643  \u001b[0m | \u001b[0m 2.0     \u001b[0m | \u001b[0m 3.0     \u001b[0m | \u001b[0m-2.661   \u001b[0m |\n",
            "| \u001b[0m 21      \u001b[0m | \u001b[0m 0.8328  \u001b[0m | \u001b[0m 2.0     \u001b[0m | \u001b[0m 1.264   \u001b[0m | \u001b[0m-2.618   \u001b[0m |\n",
            "| \u001b[0m 22      \u001b[0m | \u001b[0m 0.8155  \u001b[0m | \u001b[0m 2.009   \u001b[0m | \u001b[0m-0.2175  \u001b[0m | \u001b[0m-3.216   \u001b[0m |\n",
            "| \u001b[0m 23      \u001b[0m | \u001b[0m 0.2023  \u001b[0m | \u001b[0m 3.275   \u001b[0m | \u001b[0m 0.2178  \u001b[0m | \u001b[0m-2.744   \u001b[0m |\n",
            "| \u001b[0m 24      \u001b[0m | \u001b[0m 0.7196  \u001b[0m | \u001b[0m 2.0     \u001b[0m | \u001b[0m-0.3433  \u001b[0m | \u001b[0m-5.0     \u001b[0m |\n",
            "| \u001b[0m 25      \u001b[0m | \u001b[0m 0.08588 \u001b[0m | \u001b[0m 3.972   \u001b[0m | \u001b[0m-1.835   \u001b[0m | \u001b[0m-1.746   \u001b[0m |\n",
            "| \u001b[0m 26      \u001b[0m | \u001b[0m 0.6135  \u001b[0m | \u001b[0m 2.0     \u001b[0m | \u001b[0m 1.42    \u001b[0m | \u001b[0m-1.0     \u001b[0m |\n",
            "| \u001b[0m 27      \u001b[0m | \u001b[0m 0.7623  \u001b[0m | \u001b[0m 2.0     \u001b[0m | \u001b[0m-3.0     \u001b[0m | \u001b[0m-5.0     \u001b[0m |\n",
            "| \u001b[0m 28      \u001b[0m | \u001b[0m 0.305   \u001b[0m | \u001b[0m 4.0     \u001b[0m | \u001b[0m 3.0     \u001b[0m | \u001b[0m-3.116   \u001b[0m |\n",
            "| \u001b[0m 29      \u001b[0m | \u001b[0m 0.6388  \u001b[0m | \u001b[0m 2.0     \u001b[0m | \u001b[0m 1.036   \u001b[0m | \u001b[0m-3.883   \u001b[0m |\n",
            "| \u001b[0m 30      \u001b[0m | \u001b[0m 0.6105  \u001b[0m | \u001b[0m 2.0     \u001b[0m | \u001b[0m 2.235   \u001b[0m | \u001b[0m-2.021   \u001b[0m |\n",
            "| \u001b[0m 31      \u001b[0m | \u001b[0m 0.8866  \u001b[0m | \u001b[0m 2.022   \u001b[0m | \u001b[0m 2.445   \u001b[0m | \u001b[0m-3.392   \u001b[0m |\n",
            "| \u001b[0m 32      \u001b[0m | \u001b[0m 0.5914  \u001b[0m | \u001b[0m 2.862   \u001b[0m | \u001b[0m 3.0     \u001b[0m | \u001b[0m-3.792   \u001b[0m |\n",
            "| \u001b[0m 33      \u001b[0m | \u001b[0m 0.3332  \u001b[0m | \u001b[0m 2.0     \u001b[0m | \u001b[0m-1.341   \u001b[0m | \u001b[0m-2.929   \u001b[0m |\n",
            "| \u001b[95m 34      \u001b[0m | \u001b[95m 0.9613  \u001b[0m | \u001b[95m 2.0     \u001b[0m | \u001b[95m 0.29    \u001b[0m | \u001b[95m-2.193   \u001b[0m |\n",
            "| \u001b[0m 35      \u001b[0m | \u001b[0m 0.5965  \u001b[0m | \u001b[0m 3.095   \u001b[0m | \u001b[0m-3.0     \u001b[0m | \u001b[0m-2.095   \u001b[0m |\n",
            "| \u001b[0m 36      \u001b[0m | \u001b[0m 0.8945  \u001b[0m | \u001b[0m 2.0     \u001b[0m | \u001b[0m 3.0     \u001b[0m | \u001b[0m-3.49    \u001b[0m |\n",
            "| \u001b[0m 37      \u001b[0m | \u001b[0m 0.2587  \u001b[0m | \u001b[0m 2.0     \u001b[0m | \u001b[0m-1.449   \u001b[0m | \u001b[0m-5.0     \u001b[0m |\n",
            "| \u001b[0m 38      \u001b[0m | \u001b[0m 0.5293  \u001b[0m | \u001b[0m 2.988   \u001b[0m | \u001b[0m-2.999   \u001b[0m | \u001b[0m-3.801   \u001b[0m |\n",
            "| \u001b[0m 39      \u001b[0m | \u001b[0m 0.05952 \u001b[0m | \u001b[0m 2.0     \u001b[0m | \u001b[0m 0.7638  \u001b[0m | \u001b[0m-1.777   \u001b[0m |\n",
            "| \u001b[0m 40      \u001b[0m | \u001b[0m 0.26    \u001b[0m | \u001b[0m 2.0     \u001b[0m | \u001b[0m-0.4292  \u001b[0m | \u001b[0m-2.333   \u001b[0m |\n",
            "| \u001b[0m 41      \u001b[0m | \u001b[0m 0.9502  \u001b[0m | \u001b[0m 4.0     \u001b[0m | \u001b[0m 1.453   \u001b[0m | \u001b[0m-1.0     \u001b[0m |\n",
            "| \u001b[0m 42      \u001b[0m | \u001b[0m 0.5858  \u001b[0m | \u001b[0m 4.0     \u001b[0m | \u001b[0m 1.611   \u001b[0m | \u001b[0m-2.204   \u001b[0m |\n",
            "| \u001b[0m 43      \u001b[0m | \u001b[0m 0.8763  \u001b[0m | \u001b[0m 2.99    \u001b[0m | \u001b[0m 1.956   \u001b[0m | \u001b[0m-1.0     \u001b[0m |\n",
            "| \u001b[95m 44      \u001b[0m | \u001b[95m 0.9998  \u001b[0m | \u001b[95m 4.0     \u001b[0m | \u001b[95m 0.3082  \u001b[0m | \u001b[95m-3.917   \u001b[0m |\n",
            "| \u001b[0m 45      \u001b[0m | \u001b[0m 0.2609  \u001b[0m | \u001b[0m 2.976   \u001b[0m | \u001b[0m 0.002038\u001b[0m | \u001b[0m-4.294   \u001b[0m |\n",
            "| \u001b[0m 46      \u001b[0m | \u001b[0m 0.7678  \u001b[0m | \u001b[0m 2.0     \u001b[0m | \u001b[0m 0.5175  \u001b[0m | \u001b[0m-2.924   \u001b[0m |\n",
            "| \u001b[0m 47      \u001b[0m | \u001b[0m 0.04127 \u001b[0m | \u001b[0m 4.0     \u001b[0m | \u001b[0m-0.4423  \u001b[0m | \u001b[0m-3.279   \u001b[0m |\n",
            "| \u001b[0m 48      \u001b[0m | \u001b[0m 0.8479  \u001b[0m | \u001b[0m 2.918   \u001b[0m | \u001b[0m 1.813   \u001b[0m | \u001b[0m-2.961   \u001b[0m |\n",
            "| \u001b[0m 49      \u001b[0m | \u001b[0m 0.9344  \u001b[0m | \u001b[0m 4.0     \u001b[0m | \u001b[0m 0.9968  \u001b[0m | \u001b[0m-3.41    \u001b[0m |\n",
            "| \u001b[0m 50      \u001b[0m | \u001b[0m 0.69    \u001b[0m | \u001b[0m 2.973   \u001b[0m | \u001b[0m 3.0     \u001b[0m | \u001b[0m-2.208   \u001b[0m |\n",
            "| \u001b[0m 51      \u001b[0m | \u001b[0m 0.6088  \u001b[0m | \u001b[0m 3.24    \u001b[0m | \u001b[0m 0.9779  \u001b[0m | \u001b[0m-1.0     \u001b[0m |\n",
            "| \u001b[0m 52      \u001b[0m | \u001b[0m 0.09187 \u001b[0m | \u001b[0m 3.957   \u001b[0m | \u001b[0m 0.7013  \u001b[0m | \u001b[0m-4.436   \u001b[0m |\n",
            "| \u001b[0m 53      \u001b[0m | \u001b[0m 0.2776  \u001b[0m | \u001b[0m 4.0     \u001b[0m | \u001b[0m-1.64    \u001b[0m | \u001b[0m-5.0     \u001b[0m |\n",
            "| \u001b[0m 54      \u001b[0m | \u001b[0m 0.2482  \u001b[0m | \u001b[0m 2.0     \u001b[0m | \u001b[0m 0.7746  \u001b[0m | \u001b[0m-5.0     \u001b[0m |\n",
            "| \u001b[0m 55      \u001b[0m | \u001b[0m 0.244   \u001b[0m | \u001b[0m 2.0     \u001b[0m | \u001b[0m-0.7984  \u001b[0m | \u001b[0m-4.029   \u001b[0m |\n",
            "| \u001b[0m 56      \u001b[0m | \u001b[0m 0.08279 \u001b[0m | \u001b[0m 3.151   \u001b[0m | \u001b[0m 2.434   \u001b[0m | \u001b[0m-5.0     \u001b[0m |\n",
            "| \u001b[0m 57      \u001b[0m | \u001b[0m 0.2443  \u001b[0m | \u001b[0m 3.087   \u001b[0m | \u001b[0m-2.028   \u001b[0m | \u001b[0m-2.754   \u001b[0m |\n",
            "| \u001b[0m 58      \u001b[0m | \u001b[0m 0.2576  \u001b[0m | \u001b[0m 2.0     \u001b[0m | \u001b[0m-3.0     \u001b[0m | \u001b[0m-4.056   \u001b[0m |\n",
            "| \u001b[0m 59      \u001b[0m | \u001b[0m 0.5407  \u001b[0m | \u001b[0m 2.93    \u001b[0m | \u001b[0m-3.0     \u001b[0m | \u001b[0m-5.0     \u001b[0m |\n",
            "| \u001b[0m 60      \u001b[0m | \u001b[0m 0.6751  \u001b[0m | \u001b[0m 3.008   \u001b[0m | \u001b[0m-3.0     \u001b[0m | \u001b[0m-1.0     \u001b[0m |\n",
            "| \u001b[0m 61      \u001b[0m | \u001b[0m 0.3218  \u001b[0m | \u001b[0m 2.006   \u001b[0m | \u001b[0m-2.491   \u001b[0m | \u001b[0m-2.0     \u001b[0m |\n",
            "| \u001b[0m 62      \u001b[0m | \u001b[0m 0.6822  \u001b[0m | \u001b[0m 2.982   \u001b[0m | \u001b[0m 1.248   \u001b[0m | \u001b[0m-3.64    \u001b[0m |\n",
            "| \u001b[0m 63      \u001b[0m | \u001b[0m 0.9565  \u001b[0m | \u001b[0m 4.0     \u001b[0m | \u001b[0m-3.0     \u001b[0m | \u001b[0m-3.885   \u001b[0m |\n",
            "| \u001b[0m 64      \u001b[0m | \u001b[0m 0.4637  \u001b[0m | \u001b[0m 3.93    \u001b[0m | \u001b[0m 0.696   \u001b[0m | \u001b[0m-1.822   \u001b[0m |\n",
            "| \u001b[0m 65      \u001b[0m | \u001b[0m 0.2597  \u001b[0m | \u001b[0m 2.0     \u001b[0m | \u001b[0m 1.985   \u001b[0m | \u001b[0m-4.208   \u001b[0m |\n",
            "| \u001b[0m 66      \u001b[0m | \u001b[0m 0.898   \u001b[0m | \u001b[0m 4.0     \u001b[0m | \u001b[0m 3.0     \u001b[0m | \u001b[0m-4.201   \u001b[0m |\n",
            "| \u001b[0m 67      \u001b[0m | \u001b[0m 0.3104  \u001b[0m | \u001b[0m 3.113   \u001b[0m | \u001b[0m 1.859   \u001b[0m | \u001b[0m-1.882   \u001b[0m |\n",
            "| \u001b[0m 68      \u001b[0m | \u001b[0m 0.4567  \u001b[0m | \u001b[0m 2.0     \u001b[0m | \u001b[0m 1.707   \u001b[0m | \u001b[0m-3.146   \u001b[0m |\n",
            "| \u001b[0m 69      \u001b[0m | \u001b[0m 0.7044  \u001b[0m | \u001b[0m 2.66    \u001b[0m | \u001b[0m 2.714   \u001b[0m | \u001b[0m-2.976   \u001b[0m |\n",
            "| \u001b[0m 70      \u001b[0m | \u001b[0m 0.12    \u001b[0m | \u001b[0m 2.713   \u001b[0m | \u001b[0m-1.927   \u001b[0m | \u001b[0m-1.0     \u001b[0m |\n",
            "| \u001b[0m 71      \u001b[0m | \u001b[0m 0.3843  \u001b[0m | \u001b[0m 2.243   \u001b[0m | \u001b[0m 2.297   \u001b[0m | \u001b[0m-1.021   \u001b[0m |\n",
            "| \u001b[0m 72      \u001b[0m | \u001b[0m 0.7403  \u001b[0m | \u001b[0m 2.924   \u001b[0m | \u001b[0m 3.0     \u001b[0m | \u001b[0m-1.0     \u001b[0m |\n",
            "| \u001b[0m 73      \u001b[0m | \u001b[0m 0.08213 \u001b[0m | \u001b[0m 2.0     \u001b[0m | \u001b[0m 0.1908  \u001b[0m | \u001b[0m-4.032   \u001b[0m |\n",
            "| \u001b[0m 74      \u001b[0m | \u001b[0m 0.4548  \u001b[0m | \u001b[0m 3.047   \u001b[0m | \u001b[0m-0.8137  \u001b[0m | \u001b[0m-4.992   \u001b[0m |\n",
            "| \u001b[0m 75      \u001b[0m | \u001b[0m 0.9877  \u001b[0m | \u001b[0m 3.733   \u001b[0m | \u001b[0m 1.789   \u001b[0m | \u001b[0m-3.087   \u001b[0m |\n",
            "| \u001b[0m 76      \u001b[0m | \u001b[0m 0.4482  \u001b[0m | \u001b[0m 2.0     \u001b[0m | \u001b[0m 3.0     \u001b[0m | \u001b[0m-1.842   \u001b[0m |\n",
            "| \u001b[0m 77      \u001b[0m | \u001b[0m 0.4633  \u001b[0m | \u001b[0m 3.422   \u001b[0m | \u001b[0m 1.218   \u001b[0m | \u001b[0m-2.873   \u001b[0m |\n",
            "| \u001b[0m 78      \u001b[0m | \u001b[0m 0.2815  \u001b[0m | \u001b[0m 3.262   \u001b[0m | \u001b[0m 2.172   \u001b[0m | \u001b[0m-3.56    \u001b[0m |\n",
            "| \u001b[0m 79      \u001b[0m | \u001b[0m 0.8902  \u001b[0m | \u001b[0m 4.0     \u001b[0m | \u001b[0m-0.5972  \u001b[0m | \u001b[0m-1.959   \u001b[0m |\n",
            "| \u001b[0m 80      \u001b[0m | \u001b[0m 0.643   \u001b[0m | \u001b[0m 3.303   \u001b[0m | \u001b[0m-0.8409  \u001b[0m | \u001b[0m-1.968   \u001b[0m |\n",
            "| \u001b[0m 81      \u001b[0m | \u001b[0m 0.5995  \u001b[0m | \u001b[0m 3.638   \u001b[0m | \u001b[0m 2.072   \u001b[0m | \u001b[0m-1.01    \u001b[0m |\n",
            "| \u001b[0m 82      \u001b[0m | \u001b[0m 0.9944  \u001b[0m | \u001b[0m 4.0     \u001b[0m | \u001b[0m 2.156   \u001b[0m | \u001b[0m-2.761   \u001b[0m |\n",
            "| \u001b[0m 83      \u001b[0m | \u001b[0m 0.9459  \u001b[0m | \u001b[0m 4.0     \u001b[0m | \u001b[0m-2.451   \u001b[0m | \u001b[0m-4.183   \u001b[0m |\n",
            "| \u001b[0m 84      \u001b[0m | \u001b[0m 0.7533  \u001b[0m | \u001b[0m 2.401   \u001b[0m | \u001b[0m 0.2997  \u001b[0m | \u001b[0m-2.458   \u001b[0m |\n",
            "| \u001b[0m 85      \u001b[0m | \u001b[0m 0.6813  \u001b[0m | \u001b[0m 4.0     \u001b[0m | \u001b[0m-3.0     \u001b[0m | \u001b[0m-1.951   \u001b[0m |\n",
            "| \u001b[0m 86      \u001b[0m | \u001b[0m 0.5919  \u001b[0m | \u001b[0m 3.681   \u001b[0m | \u001b[0m-2.571   \u001b[0m | \u001b[0m-3.652   \u001b[0m |\n",
            "| \u001b[0m 87      \u001b[0m | \u001b[0m 0.12    \u001b[0m | \u001b[0m 4.0     \u001b[0m | \u001b[0m 3.0     \u001b[0m | \u001b[0m-2.091   \u001b[0m |\n",
            "| \u001b[0m 88      \u001b[0m | \u001b[0m 0.006282\u001b[0m | \u001b[0m 4.0     \u001b[0m | \u001b[0m 1.625   \u001b[0m | \u001b[0m-3.019   \u001b[0m |\n",
            "| \u001b[0m 89      \u001b[0m | \u001b[0m 0.6097  \u001b[0m | \u001b[0m 3.465   \u001b[0m | \u001b[0m 2.25    \u001b[0m | \u001b[0m-2.668   \u001b[0m |\n",
            "| \u001b[0m 90      \u001b[0m | \u001b[0m 0.2664  \u001b[0m | \u001b[0m 3.579   \u001b[0m | \u001b[0m 0.6269  \u001b[0m | \u001b[0m-3.611   \u001b[0m |\n",
            "| \u001b[0m 91      \u001b[0m | \u001b[0m 0.9741  \u001b[0m | \u001b[0m 4.0     \u001b[0m | \u001b[0m-1.167   \u001b[0m | \u001b[0m-1.0     \u001b[0m |\n",
            "| \u001b[0m 92      \u001b[0m | \u001b[0m 0.02183 \u001b[0m | \u001b[0m 3.236   \u001b[0m | \u001b[0m-0.8155  \u001b[0m | \u001b[0m-1.0     \u001b[0m |\n",
            "| \u001b[0m 93      \u001b[0m | \u001b[0m 0.6704  \u001b[0m | \u001b[0m 2.842   \u001b[0m | \u001b[0m-0.8943  \u001b[0m | \u001b[0m-3.229   \u001b[0m |\n",
            "| \u001b[0m 94      \u001b[0m | \u001b[0m 0.6733  \u001b[0m | \u001b[0m 3.989   \u001b[0m | \u001b[0m-0.6414  \u001b[0m | \u001b[0m-4.23    \u001b[0m |\n",
            "| \u001b[0m 95      \u001b[0m | \u001b[0m 0.3334  \u001b[0m | \u001b[0m 3.11    \u001b[0m | \u001b[0m-1.351   \u001b[0m | \u001b[0m-4.044   \u001b[0m |\n",
            "| \u001b[0m 96      \u001b[0m | \u001b[0m 0.5864  \u001b[0m | \u001b[0m 2.0     \u001b[0m | \u001b[0m-2.041   \u001b[0m | \u001b[0m-3.605   \u001b[0m |\n",
            "| \u001b[0m 97      \u001b[0m | \u001b[0m 0.2241  \u001b[0m | \u001b[0m 3.967   \u001b[0m | \u001b[0m-1.921   \u001b[0m | \u001b[0m-1.009   \u001b[0m |\n",
            "| \u001b[0m 98      \u001b[0m | \u001b[0m 0.1061  \u001b[0m | \u001b[0m 4.0     \u001b[0m | \u001b[0m 1.78    \u001b[0m | \u001b[0m-1.568   \u001b[0m |\n",
            "| \u001b[0m 99      \u001b[0m | \u001b[0m 0.05415 \u001b[0m | \u001b[0m 2.809   \u001b[0m | \u001b[0m 0.1626  \u001b[0m | \u001b[0m-5.0     \u001b[0m |\n",
            "| \u001b[0m 100     \u001b[0m | \u001b[0m 0.5508  \u001b[0m | \u001b[0m 3.531   \u001b[0m | \u001b[0m-3.0     \u001b[0m | \u001b[0m-4.336   \u001b[0m |\n",
            "| \u001b[0m 101     \u001b[0m | \u001b[0m 0.4446  \u001b[0m | \u001b[0m 2.876   \u001b[0m | \u001b[0m-2.989   \u001b[0m | \u001b[0m-2.799   \u001b[0m |\n",
            "| \u001b[0m 102     \u001b[0m | \u001b[0m 0.0647  \u001b[0m | \u001b[0m 3.971   \u001b[0m | \u001b[0m-0.9873  \u001b[0m | \u001b[0m-1.568   \u001b[0m |\n",
            "=============================================================\n"
          ],
          "name": "stdout"
        }
      ]
    },
    {
      "cell_type": "code",
      "metadata": {
        "colab": {
          "base_uri": "https://localhost:8080/"
        },
        "id": "2KyQnNvQ8aBL",
        "outputId": "400aab3b-552e-4958-bcb4-d57b12814558"
      },
      "source": [
        "print(optimizer.max)"
      ],
      "execution_count": null,
      "outputs": [
        {
          "output_type": "stream",
          "text": [
            "{'target': 0.9997545176762149, 'params': {'param_1': 4.0, 'param_2': 0.3081850437623929, 'param_3': -3.917459524746716}}\n"
          ],
          "name": "stdout"
        }
      ]
    },
    {
      "cell_type": "markdown",
      "metadata": {
        "id": "G6BT3Ui2vp19"
      },
      "source": [
        "# Genetic Algorithm"
      ]
    },
    {
      "cell_type": "code",
      "metadata": {
        "colab": {
          "base_uri": "https://localhost:8080/"
        },
        "id": "Sthc0WRS3CyF",
        "outputId": "1fddd337-ba85-494a-f019-a73d4005d1b3"
      },
      "source": [
        "!pip install deap"
      ],
      "execution_count": null,
      "outputs": [
        {
          "output_type": "stream",
          "text": [
            "Collecting deap\n",
            "  Downloading deap-1.3.1-cp37-cp37m-manylinux_2_5_x86_64.manylinux1_x86_64.manylinux_2_12_x86_64.manylinux2010_x86_64.whl (160 kB)\n",
            "\u001b[?25l\r\u001b[K     |██                              | 10 kB 20.5 MB/s eta 0:00:01\r\u001b[K     |████                            | 20 kB 24.5 MB/s eta 0:00:01\r\u001b[K     |██████                          | 30 kB 29.8 MB/s eta 0:00:01\r\u001b[K     |████████▏                       | 40 kB 24.8 MB/s eta 0:00:01\r\u001b[K     |██████████▏                     | 51 kB 22.0 MB/s eta 0:00:01\r\u001b[K     |████████████▏                   | 61 kB 15.6 MB/s eta 0:00:01\r\u001b[K     |██████████████▎                 | 71 kB 13.2 MB/s eta 0:00:01\r\u001b[K     |████████████████▎               | 81 kB 14.5 MB/s eta 0:00:01\r\u001b[K     |██████████████████▎             | 92 kB 15.4 MB/s eta 0:00:01\r\u001b[K     |████████████████████▍           | 102 kB 16.7 MB/s eta 0:00:01\r\u001b[K     |██████████████████████▍         | 112 kB 16.7 MB/s eta 0:00:01\r\u001b[K     |████████████████████████▍       | 122 kB 16.7 MB/s eta 0:00:01\r\u001b[K     |██████████████████████████▌     | 133 kB 16.7 MB/s eta 0:00:01\r\u001b[K     |████████████████████████████▌   | 143 kB 16.7 MB/s eta 0:00:01\r\u001b[K     |██████████████████████████████▌ | 153 kB 16.7 MB/s eta 0:00:01\r\u001b[K     |████████████████████████████████| 160 kB 16.7 MB/s \n",
            "\u001b[?25hRequirement already satisfied: numpy in /usr/local/lib/python3.7/dist-packages (from deap) (1.19.5)\n",
            "Installing collected packages: deap\n",
            "Successfully installed deap-1.3.1\n"
          ],
          "name": "stdout"
        }
      ]
    },
    {
      "cell_type": "code",
      "metadata": {
        "id": "PXL_c86O3HSB"
      },
      "source": [
        "import numpy as np\n",
        "import random\n",
        "import time\n",
        "from tqdm import trange\n",
        "from deap import base\n",
        "from deap import creator\n",
        "from deap import tools\n",
        "\n",
        "import matplotlib.pyplot as plt\n",
        "import seaborn as sns"
      ],
      "execution_count": null,
      "outputs": []
    },
    {
      "cell_type": "code",
      "metadata": {
        "colab": {
          "base_uri": "https://localhost:8080/"
        },
        "id": "Xnp8l4LPvswj",
        "outputId": "9a010776-8d61-4c0d-e042-13b3e52ca51e"
      },
      "source": [
        "NPOP = 5_000\n",
        "NGEN = 20\n",
        "CXPB = 0.5\n",
        "MUTPB = 0.15\n",
        "\n",
        "# fix the seed for reproducibility\n",
        "# feel free to change it or comment out the line\n",
        "random.seed(1)\n",
        "\n",
        "# GA parameters\n",
        "PARAM_NAMES = [\"param_1\",\"param_2\",\"param_3\"]\n",
        "\n",
        "def evaluate(individual, plot=False, log=False):\n",
        "    # convert list of parameter values into dictionary of kwargs\n",
        "    strategy_params = {k: v for k, v in zip(PARAM_NAMES, individual)}\n",
        "\n",
        "    ###################################################################\n",
        "    # put your ml training code here\n",
        "    # save the results\n",
        "    ###################################################################\n",
        "\n",
        "    #Remove this code later\n",
        "    results = np.random.uniform(0,1)\n",
        "\n",
        "    return [results]\n",
        "\n",
        "\n",
        "# our fitness score is supposed to be maximised and there is only 1 objective\n",
        "creator.create(\"FitnessMax\", base.Fitness, weights=(1.0,))\n",
        "\n",
        "# our individual is a list of genes, with the fitness score the higher the better\n",
        "creator.create(\"Individual\", list, fitness=creator.FitnessMax)\n",
        "\n",
        "# Intialize toolbox\n",
        "toolbox = base.Toolbox()\n",
        "\n",
        "# # use parallel processing\n",
        "# pool = multiprocessing.Pool(14)\n",
        "# toolbox.register(\"map\", pool.map)\n",
        "\n",
        "# register some handy functions for calling\n",
        "toolbox.register(\"indices\", random.sample, range(NPOP), NPOP)\n",
        "# crossover strategy\n",
        "toolbox.register(\"mate\", tools.cxUniform, indpb=CXPB)\n",
        "# mutation strategy\n",
        "toolbox.register(\"mutate\", tools.mutUniformInt, low=1, up=151, indpb=0.2)\n",
        "# selection strategy\n",
        "toolbox.register(\"select\", tools.selTournament, tournsize=3)\n",
        "# fitness function\n",
        "toolbox.register(\"evaluate\", evaluate)\n",
        "\n",
        "# definition of an individual & a population\n",
        "toolbox.register(\"param_1\", random.randint, 1, 100)\n",
        "toolbox.register(\"param_2\", random.randint, 5, 100)\n",
        "toolbox.register(\"param_3\", random.uniform, 0, 1)\n",
        "\n",
        "\n",
        "toolbox.register(\n",
        "    \"individual\",\n",
        "    tools.initCycle,\n",
        "    creator.Individual,\n",
        "    (\n",
        "        toolbox.param_1,\n",
        "        toolbox.param_2,\n",
        "        toolbox.param_3\n",
        "    ),\n",
        ")\n",
        "toolbox.register(\"population\", tools.initRepeat, list, toolbox.individual)\n",
        "\n",
        "mean = np.ndarray(NGEN)\n",
        "best = np.ndarray(NGEN)\n",
        "hall_of_fame = tools.HallOfFame(maxsize=3)\n",
        "\n",
        "t = time.perf_counter()\n",
        "pop = toolbox.population(n=NPOP)\n",
        "for g in trange(NGEN):\n",
        "    # Select the next generation individuals\n",
        "    offspring = toolbox.select(pop, len(pop))\n",
        "    # Clone the selected individuals\n",
        "    offspring = list(map(toolbox.clone, offspring))\n",
        "\n",
        "    # Apply crossover on the offspring\n",
        "    for child1, child2 in zip(offspring[::2], offspring[1::2]):\n",
        "        if random.random() < CXPB:\n",
        "            toolbox.mate(child1, child2)\n",
        "            del child1.fitness.values\n",
        "            del child2.fitness.values\n",
        "\n",
        "    # Apply mutation on the offspring\n",
        "    for mutant in offspring:\n",
        "        if random.random() < MUTPB:\n",
        "            toolbox.mutate(mutant)\n",
        "            del mutant.fitness.values\n",
        "\n",
        "    # Evaluate the individuals with an invalid fitness\n",
        "    invalid_ind = [ind for ind in offspring if not ind.fitness.valid]\n",
        "    fitnesses = toolbox.map(toolbox.evaluate, invalid_ind)\n",
        "    for ind, fit in zip(invalid_ind, fitnesses):\n",
        "        ind.fitness.values = fit\n",
        "\n",
        "    # The population is entirely replaced by the offspring\n",
        "    pop[:] = offspring\n",
        "    hall_of_fame.update(pop)\n",
        "    print(\n",
        "        \"HALL OF FAME:\\n\"\n",
        "        + \"\\n\".join(\n",
        "            [\n",
        "                f\"    {_}: {ind}, Fitness: {ind.fitness.values[0]}\"\n",
        "                for _, ind in enumerate(hall_of_fame)\n",
        "            ]\n",
        "        )\n",
        "    )\n",
        "\n",
        "    fitnesses = [\n",
        "        ind.fitness.values[0] for ind in pop if not np.isinf(ind.fitness.values[0])\n",
        "    ]\n",
        "    mean[g] = np.mean(fitnesses)\n",
        "    best[g] = np.max(fitnesses)\n",
        "\n",
        "end_t = time.perf_counter()\n",
        "print(f\"Time Elapsed: {end_t - t:,.2f}\")\n",
        "\n",
        "fig, ax = plt.subplots(sharex=True, figsize=(16, 9))\n",
        "\n",
        "sns.lineplot(x=range(NGEN), y=mean, ax=ax, label=\"Average Fitness Score\")\n",
        "sns.lineplot(x=range(NGEN), y=best, ax=ax, label=\"Best Fitness Score\")\n",
        "ax.set_title(\"Fitness Score\")\n",
        "ax.set_xticks(range(NGEN))\n",
        "ax.set_xlabel(\"Iteration\")\n",
        "\n",
        "plt.tight_layout()\n",
        "plt.show()\n",
        "\n",
        "params = {}\n",
        "for idx_hof, param_name in enumerate(PARAM_NAMES):\n",
        "    params[param_name] = hall_of_fame[0][idx_hof]"
      ],
      "execution_count": null,
      "outputs": [
        {
          "output_type": "stream",
          "text": [
            " 10%|█         | 2/20 [00:00<00:03,  4.58it/s]"
          ],
          "name": "stderr"
        },
        {
          "output_type": "stream",
          "text": [
            "HALL OF FAME:\n",
            "    0: [79, 5, 0.472167032302811], Fitness: 0.9996828645486484\n",
            "    1: [24, 34, 0.2670909788441129], Fitness: 0.9994965142856782\n",
            "    2: [91, 146, 0.5264383975391388], Fitness: 0.9992044910433694\n",
            "HALL OF FAME:\n",
            "    0: [46, 35, 0.2118935955467327], Fitness: 0.9999095900592636\n",
            "    1: [79, 5, 0.472167032302811], Fitness: 0.9996828645486484\n",
            "    2: [24, 34, 0.2670909788441129], Fitness: 0.9994965142856782\n"
          ],
          "name": "stdout"
        },
        {
          "output_type": "stream",
          "text": [
            " 20%|██        | 4/20 [00:00<00:02,  5.47it/s]"
          ],
          "name": "stderr"
        },
        {
          "output_type": "stream",
          "text": [
            "HALL OF FAME:\n",
            "    0: [46, 35, 0.2118935955467327], Fitness: 0.9999095900592636\n",
            "    1: [12, 7, 0.09048843869574763], Fitness: 0.9996892261268593\n",
            "    2: [79, 5, 0.472167032302811], Fitness: 0.9996828645486484\n",
            "HALL OF FAME:\n",
            "    0: [35, 46, 0.5336817824367446], Fitness: 0.999980481093376\n",
            "    1: [46, 35, 0.2118935955467327], Fitness: 0.9999095900592636\n",
            "    2: [93, 22, 0.472167032302811], Fitness: 0.9998437865800086\n"
          ],
          "name": "stdout"
        },
        {
          "output_type": "stream",
          "text": [
            " 30%|███       | 6/20 [00:01<00:02,  4.89it/s]"
          ],
          "name": "stderr"
        },
        {
          "output_type": "stream",
          "text": [
            "HALL OF FAME:\n",
            "    0: [35, 46, 0.5336817824367446], Fitness: 0.999980481093376\n",
            "    1: [81, 70, 0.8920297743130984], Fitness: 0.9999678473547975\n",
            "    2: [46, 35, 0.2118935955467327], Fitness: 0.9999095900592636\n",
            "HALL OF FAME:\n",
            "    0: [35, 46, 0.5336817824367446], Fitness: 0.999980481093376\n",
            "    1: [81, 70, 0.8920297743130984], Fitness: 0.9999678473547975\n",
            "    2: [46, 35, 0.2118935955467327], Fitness: 0.9999095900592636\n"
          ],
          "name": "stdout"
        },
        {
          "output_type": "stream",
          "text": [
            " 40%|████      | 8/20 [00:01<00:02,  5.27it/s]"
          ],
          "name": "stderr"
        },
        {
          "output_type": "stream",
          "text": [
            "HALL OF FAME:\n",
            "    0: [35, 46, 0.5336817824367446], Fitness: 0.999980481093376\n",
            "    1: [81, 70, 0.8920297743130984], Fitness: 0.9999678473547975\n",
            "    2: [86, 80, 0.5098704813589856], Fitness: 0.9999372283606897\n",
            "HALL OF FAME:\n",
            "    0: [35, 46, 0.5336817824367446], Fitness: 0.999980481093376\n",
            "    1: [81, 70, 0.8920297743130984], Fitness: 0.9999678473547975\n",
            "    2: [86, 80, 0.5098704813589856], Fitness: 0.9999372283606897\n"
          ],
          "name": "stdout"
        },
        {
          "output_type": "stream",
          "text": [
            " 50%|█████     | 10/20 [00:02<00:01,  5.01it/s]"
          ],
          "name": "stderr"
        },
        {
          "output_type": "stream",
          "text": [
            "HALL OF FAME:\n",
            "    0: [35, 46, 0.5336817824367446], Fitness: 0.999980481093376\n",
            "    1: [81, 70, 0.8920297743130984], Fitness: 0.9999678473547975\n",
            "    2: [86, 80, 0.5098704813589856], Fitness: 0.9999372283606897\n",
            "HALL OF FAME:\n",
            "    0: [35, 46, 0.5336817824367446], Fitness: 0.999980481093376\n",
            "    1: [81, 70, 0.8920297743130984], Fitness: 0.9999678473547975\n",
            "    2: [86, 80, 0.5098704813589856], Fitness: 0.9999372283606897\n"
          ],
          "name": "stdout"
        },
        {
          "output_type": "stream",
          "text": [
            " 60%|██████    | 12/20 [00:02<00:01,  5.23it/s]"
          ],
          "name": "stderr"
        },
        {
          "output_type": "stream",
          "text": [
            "HALL OF FAME:\n",
            "    0: [23, 100, 0.18267513223550358], Fitness: 0.9999825376092393\n",
            "    1: [35, 46, 0.5336817824367446], Fitness: 0.999980481093376\n",
            "    2: [81, 70, 0.8920297743130984], Fitness: 0.9999678473547975\n",
            "HALL OF FAME:\n",
            "    0: [38, 52, 0.012300933006653136], Fitness: 0.9999889678015843\n",
            "    1: [23, 100, 0.18267513223550358], Fitness: 0.9999825376092393\n",
            "    2: [35, 46, 0.5336817824367446], Fitness: 0.999980481093376\n"
          ],
          "name": "stdout"
        },
        {
          "output_type": "stream",
          "text": [
            " 70%|███████   | 14/20 [00:02<00:01,  5.01it/s]"
          ],
          "name": "stderr"
        },
        {
          "output_type": "stream",
          "text": [
            "HALL OF FAME:\n",
            "    0: [38, 52, 0.012300933006653136], Fitness: 0.9999889678015843\n",
            "    1: [23, 100, 0.18267513223550358], Fitness: 0.9999825376092393\n",
            "    2: [35, 46, 0.5336817824367446], Fitness: 0.999980481093376\n",
            "HALL OF FAME:\n",
            "    0: [38, 52, 0.012300933006653136], Fitness: 0.9999889678015843\n",
            "    1: [23, 100, 0.18267513223550358], Fitness: 0.9999825376092393\n",
            "    2: [35, 46, 0.5336817824367446], Fitness: 0.999980481093376\n"
          ],
          "name": "stdout"
        },
        {
          "output_type": "stream",
          "text": [
            " 80%|████████  | 16/20 [00:03<00:00,  5.38it/s]"
          ],
          "name": "stderr"
        },
        {
          "output_type": "stream",
          "text": [
            "HALL OF FAME:\n",
            "    0: [38, 52, 0.012300933006653136], Fitness: 0.9999889678015843\n",
            "    1: [23, 100, 0.18267513223550358], Fitness: 0.9999825376092393\n",
            "    2: [35, 46, 0.5336817824367446], Fitness: 0.999980481093376\n",
            "HALL OF FAME:\n",
            "    0: [38, 52, 0.012300933006653136], Fitness: 0.9999889678015843\n",
            "    1: [23, 100, 0.18267513223550358], Fitness: 0.9999825376092393\n",
            "    2: [35, 46, 0.5336817824367446], Fitness: 0.999980481093376\n"
          ],
          "name": "stdout"
        },
        {
          "output_type": "stream",
          "text": [
            " 90%|█████████ | 18/20 [00:03<00:00,  4.96it/s]"
          ],
          "name": "stderr"
        },
        {
          "output_type": "stream",
          "text": [
            "HALL OF FAME:\n",
            "    0: [38, 52, 0.012300933006653136], Fitness: 0.9999889678015843\n",
            "    1: [23, 100, 0.18267513223550358], Fitness: 0.9999825376092393\n",
            "    2: [35, 46, 0.5336817824367446], Fitness: 0.999980481093376\n",
            "HALL OF FAME:\n",
            "    0: [38, 52, 0.012300933006653136], Fitness: 0.9999889678015843\n",
            "    1: [23, 100, 0.18267513223550358], Fitness: 0.9999825376092393\n",
            "    2: [35, 46, 0.5336817824367446], Fitness: 0.999980481093376\n"
          ],
          "name": "stdout"
        },
        {
          "output_type": "stream",
          "text": [
            "100%|██████████| 20/20 [00:03<00:00,  5.03it/s]"
          ],
          "name": "stderr"
        },
        {
          "output_type": "stream",
          "text": [
            "HALL OF FAME:\n",
            "    0: [38, 52, 0.012300933006653136], Fitness: 0.9999889678015843\n",
            "    1: [23, 100, 0.18267513223550358], Fitness: 0.9999825376092393\n",
            "    2: [35, 46, 0.5336817824367446], Fitness: 0.999980481093376\n",
            "HALL OF FAME:\n",
            "    0: [38, 52, 0.012300933006653136], Fitness: 0.9999889678015843\n",
            "    1: [23, 100, 0.18267513223550358], Fitness: 0.9999825376092393\n",
            "    2: [35, 46, 0.5336817824367446], Fitness: 0.999980481093376\n",
            "Time Elapsed: 4.02\n"
          ],
          "name": "stdout"
        },
        {
          "output_type": "stream",
          "text": [
            "\n"
          ],
          "name": "stderr"
        },
        {
          "output_type": "display_data",
          "data": {
            "image/png": "[encoded data removed]",
            "text/plain": [
              "<Figure size 1152x648 with 1 Axes>"
            ]
          },
          "metadata": {
            "tags": [],
            "needs_background": "light"
          }
        }
      ]
    },
    {
      "cell_type": "code",
      "metadata": {
        "colab": {
          "base_uri": "https://localhost:8080/"
        },
        "id": "6mElHNjV8s1D",
        "outputId": "b87663b1-8022-4f43-d016-19eb82405b14"
      },
      "source": [
        "print(params)"
      ],
      "execution_count": null,
      "outputs": [
        {
          "output_type": "stream",
          "text": [
            "{'param_1': 38, 'param_2': 52, 'param_3': 0.012300933006653136}\n"
          ],
          "name": "stdout"
        }
      ]
    }
  ]
}